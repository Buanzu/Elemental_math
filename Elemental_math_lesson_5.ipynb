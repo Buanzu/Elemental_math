{
 "cells": [
  {
   "cell_type": "code",
   "execution_count": 1,
   "id": "a3d30b4a",
   "metadata": {},
   "outputs": [
    {
     "name": "stdout",
     "output_type": "stream",
     "text": [
      "Введите ставку:10\n",
      "13 Вы проиграли\n"
     ]
    }
   ],
   "source": [
    "import numpy as np\n",
    "\n",
    "bet = input('Введите ставку:')\n",
    "bet = int(bet)\n",
    "while True:\n",
    "    if bet > 36:\n",
    "        print('Ошибка ставки')\n",
    "        break\n",
    "    bet_1 = round(np.random.uniform(0, 36))\n",
    "    if bet == bet_1 and bet_1 % 2 == 0:\n",
    "        print(bet_1, 'Красное, вы выиграли')\n",
    "    elif bet == bet_1 and bet_1 % 2 != 0:\n",
    "        print(bet_1, 'Черное, вы выиграли')\n",
    "    elif bet == bet_1 and bet_1 == 0:\n",
    "        print(bet_1, 'Зеро, вы выиграли')\n",
    "    else:\n",
    "        print(bet_1, 'Вы проиграли')\n",
    "    break\n"
   ]
  },
  {
   "cell_type": "code",
   "execution_count": null,
   "id": "a7e7c86b",
   "metadata": {},
   "outputs": [],
   "source": [
    "P_red = 18/37\n",
    "P_black = 18/37\n",
    "P_0 = 1/37\n",
    "P = P_red + P_black + P_0\n",
    "print(P)\n"
   ]
  },
  {
   "cell_type": "code",
   "execution_count": 2,
   "id": "90d21cdb",
   "metadata": {},
   "outputs": [
    {
     "name": "stdout",
     "output_type": "stream",
     "text": [
      "[645, 422, 399, 603, 476, 359, 453, 408, 411]\n"
     ]
    },
    {
     "data": {
      "image/png": "[encoded data removed]",
      "text/plain": [
       "<Figure size 432x288 with 1 Axes>"
      ]
     },
     "metadata": {
      "needs_background": "light"
     },
     "output_type": "display_data"
    }
   ],
   "source": [
    "import random\n",
    "import matplotlib.pyplot as plt\n",
    "x=[]\n",
    "for i in range (0,9):\n",
    "    x.append(sum(random.sample(range(100), 10)))\n",
    "print(x)\n",
    "plt.hist(x, bins='auto')\n",
    "plt.show()"
   ]
  },
  {
   "cell_type": "code",
   "execution_count": 3,
   "id": "271ed8ef",
   "metadata": {},
   "outputs": [
    {
     "name": "stdout",
     "output_type": "stream",
     "text": [
      "[2 4 1 3 1 4 2 2 2 6 3 1 5 3 2 5 2 2 2 3 1 5 3 3 2 3 4 4 1 3 1 5 4 4 5 4 3\n",
      " 4 1 5 5 4 2 3 3 4 2 3 3 3 2 4 2 4 4 4 2 5 2 2 4 4 3 2 4 4 2 4 2 4 4 2 1 5\n",
      " 0 2 1 3 4 3 5 4 1 5 2 5 3 1 2 4 4 4 2 5 3 3 2 5 4 3]\n",
      "25 100 0.25\n"
     ]
    }
   ],
   "source": [
    "import numpy as np\n",
    "k, n = 0, 100\n",
    "a = np.random.randint(0,3, n)\n",
    "b = np.random.randint(0,3, n)\n",
    "c = np.random.randint(0,3, n)\n",
    "\n",
    "x = a + b + c\n",
    "for i in range(0, n):\n",
    "    if x[i] == 2:\n",
    "        k = k + 1\n",
    "print(x)\n",
    "print(k, n, k/n)\n"
   ]
  },
  {
   "cell_type": "code",
   "execution_count": null,
   "id": "e322b5b3",
   "metadata": {},
   "outputs": [],
   "source": []
  }
 ],
 "metadata": {
  "kernelspec": {
   "display_name": "Python 3 (ipykernel)",
   "language": "python",
   "name": "python3"
  },
  "language_info": {
   "codemirror_mode": {
    "name": "ipython",
    "version": 3
   },
   "file_extension": ".py",
   "mimetype": "text/x-python",
   "name": "python",
   "nbconvert_exporter": "python",
   "pygments_lexer": "ipython3",
   "version": "3.9.12"
  }
 },
 "nbformat": 4,
 "nbformat_minor": 5
}
